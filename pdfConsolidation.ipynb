{
  "nbformat": 4,
  "nbformat_minor": 0,
  "metadata": {
    "colab": {
      "name": "pdfConsolidation.ipynb",
      "provenance": [],
      "mount_file_id": "11W4_MLX-1Z8bq2Ef4P1FI5OdQSt_ZskY",
      "authorship_tag": "ABX9TyPIGZ3MMvO9gzxj0/YwPERc",
      "include_colab_link": true
    },
    "kernelspec": {
      "name": "python3",
      "display_name": "Python 3"
    },
    "language_info": {
      "name": "python"
    }
  },
  "cells": [
    {
      "cell_type": "markdown",
      "metadata": {
        "id": "view-in-github",
        "colab_type": "text"
      },
      "source": [
        "<a href=\"https://colab.research.google.com/github/Aruminium/pdfConsolidation/blob/main/pdfConsolidation.ipynb\" target=\"_parent\"><img src=\"https://colab.research.google.com/assets/colab-badge.svg\" alt=\"Open In Colab\"/></a>"
      ]
    },
    {
      "cell_type": "code",
      "execution_count": 1,
      "metadata": {
        "id": "qMiIT1OVjpuy",
        "outputId": "d1c8f4f4-c306-4ea8-a276-ccac2783d630",
        "colab": {
          "base_uri": "https://localhost:8080/"
        }
      },
      "outputs": [
        {
          "output_type": "stream",
          "name": "stdout",
          "text": [
            "Looking in indexes: https://pypi.org/simple, https://us-python.pkg.dev/colab-wheels/public/simple/\n",
            "Collecting PyPDF2\n",
            "  Downloading pypdf2-3.0.1-py3-none-any.whl (232 kB)\n",
            "\u001b[2K     \u001b[90m━━━━━━━━━━━━━━━━━━━━━━━━━━━━━━━━━━━━━━\u001b[0m \u001b[32m232.6/232.6 KB\u001b[0m \u001b[31m10.1 MB/s\u001b[0m eta \u001b[36m0:00:00\u001b[0m\n",
            "\u001b[?25hRequirement already satisfied: typing_extensions>=3.10.0.0 in /usr/local/lib/python3.8/dist-packages (from PyPDF2) (4.4.0)\n",
            "Installing collected packages: PyPDF2\n",
            "Successfully installed PyPDF2-3.0.1\n",
            "Looking in indexes: https://pypi.org/simple, https://us-python.pkg.dev/colab-wheels/public/simple/\n",
            "Requirement already satisfied: natsort in /usr/local/lib/python3.8/dist-packages (5.5.0)\n",
            "Looking in indexes: https://pypi.org/simple, https://us-python.pkg.dev/colab-wheels/public/simple/\n",
            "Collecting pycryptodome\n",
            "  Downloading pycryptodome-3.17-cp35-abi3-manylinux_2_17_x86_64.manylinux2014_x86_64.whl (2.1 MB)\n",
            "\u001b[2K     \u001b[90m━━━━━━━━━━━━━━━━━━━━━━━━━━━━━━━━━━━━━━━━\u001b[0m \u001b[32m2.1/2.1 MB\u001b[0m \u001b[31m37.5 MB/s\u001b[0m eta \u001b[36m0:00:00\u001b[0m\n",
            "\u001b[?25hInstalling collected packages: pycryptodome\n",
            "Successfully installed pycryptodome-3.17\n"
          ]
        }
      ],
      "source": [
        "# 上から順次実行 - Sequential execution from the top\n",
        "\n",
        "#インストール - install\n",
        "!pip install PyPDF2\n",
        "!pip install natsort\n",
        "!pip install pycryptodome"
      ]
    },
    {
      "cell_type": "code",
      "source": [
        "import PyPDF2\n",
        "import subprocess\n",
        "from typing import List\n",
        "import glob\n",
        "from natsort import natsorted\n",
        "import os\n",
        "import re\n",
        "from Crypto.Cipher import AES\n",
        "import unicodedata\n",
        "from google.colab import drive\n",
        "drive.mount('/content/drive')"
      ],
      "metadata": {
        "id": "5Ua-f59Mjy3A",
        "outputId": "3fbdaa0c-ae81-439f-df6f-19b40a18a842",
        "colab": {
          "base_uri": "https://localhost:8080/"
        }
      },
      "execution_count": 2,
      "outputs": [
        {
          "output_type": "stream",
          "name": "stdout",
          "text": [
            "Mounted at /content/drive\n"
          ]
        }
      ]
    },
    {
      "cell_type": "code",
      "source": [
        "def changeFilesName(files: List[str], old: str, new: str) -> List[str]:\n",
        "    \"\"\"ファイル名を変更する&driveの方にも適用する - change FIles Name\n",
        "\n",
        "    Args:\n",
        "        files (list[str]): files path list\n",
        "        old (str): Required. String to be replaced.\n",
        "        new (str): Optional. String to replace the old one.\n",
        "\n",
        "    Returns:\n",
        "        list[str]: Processed list\n",
        "    \n",
        "    Examples:\n",
        "        When you want to delete the string \"hoge\" in a list\n",
        "        files = changeFilesName(files, \"hoge\", \"\")\n",
        "    \"\"\"\n",
        "    newFiles = [pdfName.replace(old, new) for pdfName in files]\n",
        "    [os.rename(pdfFile, newPdfFile) for pdfFile, newPdfFile in zip(files, newFiles)]\n",
        "    return newFiles"
      ],
      "metadata": {
        "id": "DvInwiHmPMV-"
      },
      "execution_count": 3,
      "outputs": []
    },
    {
      "cell_type": "code",
      "source": [
        "#@title 準備 - Preparation { vertical-output: true }\n",
        "\n",
        "#@markdown **googleドライブのパス(基本的に変更しない)**\n",
        "#@markdown google drive path (basically unchanged)\n",
        "gdrivePath = '/content/drive/MyDrive/' #@param {type:\"string\"}\n",
        "\n",
        "#@markdown **連結させたいpdfが在るディレクトリのパス**\n",
        "#@markdown Path of the directory where the pdfs to be concatenated are located - \n",
        "dirPath = 'pdf/image-engineering/' #@param {type:\"string\"}\n",
        "\n",
        "#連結するpdfをまとめたディレクトリのパス\n",
        "files = glob.glob(gdrivePath \n",
        "                  + dirPath + \"*.pdf\")\n",
        "\n",
        "# 全角->半角\n",
        "[os.rename(pdfFile, unicodedata.normalize(\"NFKC\", pdfFile)) for pdfFile in files]\n",
        "\n",
        "#連結するpdfをまとめたディレクトリのパス\n",
        "files = glob.glob(gdrivePath + dirPath + \"*.pdf\")\n",
        "\n",
        "fileNames = [os.path.basename(pdfFile).replace(\".pdf\", \"\") for pdfFile in files]\n",
        "fileNames"
      ],
      "metadata": {
        "id": "Oe4ffja84QVX",
        "outputId": "f9fa16f5-e9ef-42be-e2ca-ceba3e95e08a",
        "colab": {
          "base_uri": "https://localhost:8080/"
        }
      },
      "execution_count": 11,
      "outputs": [
        {
          "output_type": "execute_result",
          "data": {
            "text/plain": [
              "['IE01',\n",
              " 'IE02',\n",
              " 'IE03',\n",
              " 'IE04',\n",
              " 'IE05',\n",
              " 'IE06',\n",
              " 'IE07',\n",
              " 'IE08',\n",
              " 'IE09',\n",
              " 'IE10',\n",
              " 'IE11',\n",
              " 'IE12',\n",
              " 'IE13',\n",
              " 'IE14',\n",
              " 'IE15']"
            ]
          },
          "metadata": {},
          "execution_count": 11
        }
      ]
    },
    {
      "cell_type": "code",
      "source": [
        "#@title 名前変更する場合,追記し実行 - If you want to change the name, add and execute { vertical-output: true }\n",
        "\n",
        "old = \"\" #@param {type: \"string\"}\n",
        "new = \"\" #@param {type: \"string\"}\n",
        "\n",
        "files = changeFilesName(files, old, new)\n",
        "\n",
        "fileNames = [os.path.basename(pdfFile).replace(\".pdf\", \"\") for pdfFile in files]\n",
        "fileNames"
      ],
      "metadata": {
        "id": "qGihx7c4YGmC"
      },
      "execution_count": null,
      "outputs": []
    },
    {
      "cell_type": "code",
      "source": [
        "#@title 並び替え - Sort { vertical-output: true }\n",
        "\n",
        "sorting = \"ascending\" #@param [\"unsort\", \"ascending\", \"descending\", \"reversion\"]\n",
        "\n",
        "if sorting in \"ascending\":\n",
        "    files = natsorted(files)\n",
        "elif sorting in \"descending\":\n",
        "    files = natsorted(files).reverse()\n",
        "elif sorting in \"reversion\":\n",
        "    files = files.reverse()\n",
        "\n",
        "#確認\n",
        "fileNames = [os.path.basename(pdfFile).replace(\".pdf\", \"\") for pdfFile in files]\n",
        "fileNames"
      ],
      "metadata": {
        "id": "op-3qo9NrbRc",
        "outputId": "500b297a-e4fc-48ba-ce4b-057604e50016",
        "colab": {
          "base_uri": "https://localhost:8080/"
        }
      },
      "execution_count": 12,
      "outputs": [
        {
          "output_type": "execute_result",
          "data": {
            "text/plain": [
              "['IE01',\n",
              " 'IE02',\n",
              " 'IE03',\n",
              " 'IE04',\n",
              " 'IE05',\n",
              " 'IE06',\n",
              " 'IE07',\n",
              " 'IE08',\n",
              " 'IE09',\n",
              " 'IE10',\n",
              " 'IE11',\n",
              " 'IE12',\n",
              " 'IE13',\n",
              " 'IE14',\n",
              " 'IE15']"
            ]
          },
          "metadata": {},
          "execution_count": 12
        }
      ]
    },
    {
      "cell_type": "code",
      "source": [
        "#@title ページ数取得 - Page count acquisition { vertical-output: true }\n",
        "pdfPages = []\n",
        "sumPages = 0\n",
        "for pdfFile in files:\n",
        "    pdf_reader = PyPDF2.PdfReader(pdfFile)\n",
        "    page_num = len(pdf_reader.pages)\n",
        "    pdfPages.append(sumPages)\n",
        "    sumPages += page_num\n",
        "    print(sumPages)\n",
        "pdfPages"
      ],
      "metadata": {
        "id": "KZ5oNTfCw4Ov",
        "outputId": "2d8a8196-9fca-4f62-d404-24220f14d1d0",
        "colab": {
          "base_uri": "https://localhost:8080/"
        }
      },
      "execution_count": 19,
      "outputs": [
        {
          "output_type": "stream",
          "name": "stdout",
          "text": [
            "47\n",
            "82\n",
            "115\n",
            "161\n",
            "188\n",
            "241\n",
            "288\n",
            "340\n",
            "378\n",
            "445\n",
            "501\n",
            "533\n",
            "553\n",
            "585\n",
            "626\n"
          ]
        },
        {
          "output_type": "execute_result",
          "data": {
            "text/plain": [
              "[0, 47, 82, 115, 161, 188, 241, 288, 340, 378, 445, 501, 533, 553, 585]"
            ]
          },
          "metadata": {},
          "execution_count": 19
        }
      ]
    },
    {
      "cell_type": "code",
      "source": [
        "\n",
        "#@title 出力 - Output { vertical-output: true }\n",
        "\n",
        "#@markdown **ファイル名** file-name\n",
        "pdfName = 'image-engineering' #@param {type:\"string\"}\n",
        "#@markdown **MyDrive/以下の出力path** MyDrive/ Output path under\n",
        "exportPath = '/' #@param {type:\"string\"}\n",
        "\n",
        "pdf_writer = PyPDF2.PdfMerger()\n",
        "\n",
        "for file in files:\n",
        "    pdf_writer.append(file)\n",
        "\n",
        "#出力パス gdrivePath + \"/ + 任意ディレクトリのpath(/のみでも大丈夫)\" + fileName\n",
        "outPath = gdrivePath + exportPath + pdfName + '.pdf'\n",
        "\n",
        "# exportPathがなければ作る\n",
        "if not os.path.exists(gdrivePath+exportPath):\n",
        "  os.mkdir(gdrivePath+exportPath)\n",
        "\n",
        "pdf_writer.write(outPath)\n",
        "pdf_writer.close()"
      ],
      "metadata": {
        "id": "o_Opf8WqNJGj"
      },
      "execution_count": 21,
      "outputs": []
    },
    {
      "cell_type": "code",
      "source": [
        "#@title しおり作成 & 圧縮 - Bookmark Creation & Compression\n",
        "\n",
        "#@markdown うまくいかない時は1つ前のセルのpdf結合からやり直す\n",
        "\n",
        "#@markdown If it doesn't work, start over from the pdf merge of the previous cell.\n",
        "\n",
        "writer = PyPDF2.PdfWriter()\n",
        "reader = PyPDF2.PdfReader(outPath)\n",
        "\n",
        "for i in range(len(reader.pages)):\n",
        "    #圧縮\n",
        "    page = reader.pages[i]\n",
        "    page.compress_content_streams()\n",
        "    writer.add_page(page)\n",
        "\n",
        "for key, value in zip(fileNames, pdfPages):\n",
        "    writer.add_outline_item(key, value, parent=None)\n",
        "writer.page_mode = \"/UseOutlines\"  # This is what tells the PDF to open to bookmarks\n",
        "with open(outPath, \"wb\") as fp:\n",
        "    writer.write(fp)"
      ],
      "metadata": {
        "id": "3T7b6cdgfBA-"
      },
      "execution_count": 29,
      "outputs": []
    },
    {
      "cell_type": "code",
      "source": [],
      "metadata": {
        "id": "8Jm7ndfxfUdQ"
      },
      "execution_count": null,
      "outputs": []
    }
  ]
}