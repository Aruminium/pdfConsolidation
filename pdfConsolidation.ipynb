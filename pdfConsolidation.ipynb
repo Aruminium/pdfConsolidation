{
  "nbformat": 4,
  "nbformat_minor": 0,
  "metadata": {
    "colab": {
      "name": "pdfConsolidation.ipynb",
      "provenance": [],
      "collapsed_sections": [],
      "mount_file_id": "11W4_MLX-1Z8bq2Ef4P1FI5OdQSt_ZskY",
      "authorship_tag": "ABX9TyOtuZ3eMWM3b4INoxk0IR37",
      "include_colab_link": true
    },
    "kernelspec": {
      "name": "python3",
      "display_name": "Python 3"
    },
    "language_info": {
      "name": "python"
    }
  },
  "cells": [
    {
      "cell_type": "markdown",
      "metadata": {
        "id": "view-in-github",
        "colab_type": "text"
      },
      "source": [
        "<a href=\"https://colab.research.google.com/github/Aruminium/pdfConsolidation/blob/main/pdfConsolidation.ipynb\" target=\"_parent\"><img src=\"https://colab.research.google.com/assets/colab-badge.svg\" alt=\"Open In Colab\"/></a>"
      ]
    },
    {
      "cell_type": "code",
      "execution_count": null,
      "metadata": {
        "id": "qMiIT1OVjpuy"
      },
      "outputs": [],
      "source": [
        "# 上から順次実行 - Sequential execution from the top\n",
        "\n",
        "#インストール - install\n",
        "!pip install PyPDF2\n",
        "!pip install natsort\n",
        "!pip install pycryptodome"
      ]
    },
    {
      "cell_type": "code",
      "source": [
        "import PyPDF2\n",
        "import subprocess\n",
        "from typing import List\n",
        "import glob\n",
        "from natsort import natsorted\n",
        "import os\n",
        "import re\n",
        "from Crypto.Cipher import AES\n",
        "import unicodedata\n",
        "from google.colab import drive\n",
        "drive.mount('/content/drive')"
      ],
      "metadata": {
        "id": "5Ua-f59Mjy3A"
      },
      "execution_count": null,
      "outputs": []
    },
    {
      "cell_type": "code",
      "source": [
        "def changeFilesName(files: List[str], old: str, new: str) -> List[str]:\n",
        "    \"\"\"ファイル名を変更する&driveの方にも適用する - change FIles Name\n",
        "\n",
        "    Args:\n",
        "        files (list[str]): files path list\n",
        "        old (str): Required. String to be replaced.\n",
        "        new (str): Optional. String to replace the old one.\n",
        "\n",
        "    Returns:\n",
        "        list[str]: Processed list\n",
        "    \n",
        "    Examples:\n",
        "        When you want to delete the string \"hoge\" in a list\n",
        "        files = changeFilesName(files, \"hoge\", \"\")\n",
        "    \"\"\"\n",
        "    newFiles = [pdfName.replace(old, new) for pdfName in files]\n",
        "    [os.rename(pdfFile, newPdfFile) for pdfFile, newPdfFile in zip(files, newFiles)]\n",
        "    return newFiles"
      ],
      "metadata": {
        "id": "DvInwiHmPMV-"
      },
      "execution_count": 31,
      "outputs": []
    },
    {
      "cell_type": "code",
      "source": [
        "#@title 準備 - Preparation { vertical-output: true }\n",
        "\n",
        "#@markdown **googleドライブのパス(基本的に変更しない)**\n",
        "#@markdown google drive path (basically unchanged)\n",
        "gdrivePath = '/content/drive/MyDrive/' #@param {type:\"string\"}\n",
        "\n",
        "#@markdown **連結させたいpdfが在るディレクトリのパス**\n",
        "#@markdown Path of the directory where the pdfs to be concatenated are located - \n",
        "dirPath = '' #@param {type:\"string\"}\n",
        "\n",
        "#連結するpdfをまとめたディレクトリのパス\n",
        "files = glob.glob(gdrivePath + dirPath + \"*.pdf\")\n",
        "\n",
        "# 全角->半角\n",
        "[os.rename(pdfFile, unicodedata.normalize(\"NFKC\", pdfFile)) for pdfFile in files]\n",
        "\n",
        "#連結するpdfをまとめたディレクトリのパス\n",
        "files = glob.glob(gdrivePath + dirPath + \"*.pdf\")\n",
        "\n",
        "fileNames = [os.path.basename(pdfFile).replace(\".pdf\", \"\") for pdfFile in files]\n",
        "fileNames"
      ],
      "metadata": {
        "id": "Oe4ffja84QVX"
      },
      "execution_count": null,
      "outputs": []
    },
    {
      "cell_type": "code",
      "source": [
        "#@title 名前変更する場合,追記し実行 - If you want to change the name, add and execute { vertical-output: true }\n",
        "\n",
        "old = \"\" #@param {type: \"string\"}\n",
        "new = \"\" #@param {type: \"string\"}\n",
        "\n",
        "files = changeFilesName(files, old, new)\n",
        "\n",
        "fileNames = [os.path.basename(pdfFile).replace(\".pdf\", \"\") for pdfFile in files]\n",
        "fileNames"
      ],
      "metadata": {
        "id": "qGihx7c4YGmC"
      },
      "execution_count": null,
      "outputs": []
    },
    {
      "cell_type": "code",
      "source": [
        "#@title 並び替え - Sort { vertical-output: true }\n",
        "\n",
        "sorting = \"ascending\" #@param [\"unsort\", \"ascending\", \"descending\", \"reversion\"]\n",
        "\n",
        "if sorting in \"ascending\":\n",
        "    files = natsorted(files)\n",
        "elif sorting in \"descending\":\n",
        "    files = natsorted(files).reverse()\n",
        "elif sorting in \"reversion\":\n",
        "    files = files.reverse()\n",
        "\n",
        "#確認\n",
        "fileNames = [os.path.basename(pdfFile).replace(\".pdf\", \"\") for pdfFile in files]\n",
        "fileNames"
      ],
      "metadata": {
        "id": "op-3qo9NrbRc"
      },
      "execution_count": null,
      "outputs": []
    },
    {
      "cell_type": "code",
      "source": [
        "#@title ページ数取得 - Page count acquisition { vertical-output: true }\n",
        "pdfPages = []\n",
        "sumPages = 0\n",
        "for pdfFile in files:\n",
        "    pdf_reader = PyPDF2.PdfFileReader(pdfFile)\n",
        "    page_num = pdf_reader.getNumPages()\n",
        "    pdfPages.append(sumPages)\n",
        "    sumPages += page_num\n",
        "    print(sumPages)\n",
        "pdfPages"
      ],
      "metadata": {
        "id": "KZ5oNTfCw4Ov"
      },
      "execution_count": null,
      "outputs": []
    },
    {
      "cell_type": "code",
      "source": [
        "\n",
        "#@title 出力 - Output { vertical-output: true }\n",
        "\n",
        "#@markdown **ファイル名** file-name\n",
        "pdfName = '' #@param {type:\"string\"}\n",
        "#@markdown **MyDrive/以下の出力path** MyDrive/ Output path under\n",
        "exportPath = '' #@param {type:\"string\"}\n",
        "\n",
        "pdf_writer = PyPDF2.PdfFileMerger()\n",
        "\n",
        "for file in files:\n",
        "    pdf_writer.append(file)\n",
        "\n",
        "#出力パス gdrivePath + \"/ + 任意ディレクトリのpath(/のみでも大丈夫)\" + fileName\n",
        "outPath = gdrivePath + exportPath + pdfName + '.pdf'\n",
        "\n",
        "# exportPathがなければ作る\n",
        "if not os.path.exists(gdrivePath+exportPath):\n",
        "  os.mkdir(gdrivePath+exportPath)\n",
        "\n",
        "pdf_writer.write(outPath)\n",
        "pdf_writer.close()"
      ],
      "metadata": {
        "id": "o_Opf8WqNJGj"
      },
      "execution_count": 41,
      "outputs": []
    },
    {
      "cell_type": "code",
      "source": [
        "#@title しおり作成 & 圧縮 - Bookmark Creation & Compression\n",
        "\n",
        "#@markdown うまくいかない時は1つ前のセルのpdf結合からやり直す\n",
        "\n",
        "#@markdown If it doesn't work, start over from the pdf merge of the previous cell.\n",
        "\n",
        "writer = PyPDF2.PdfFileWriter()\n",
        "reader = PyPDF2.PdfFileReader(outPath)\n",
        "\n",
        "for i in range(reader.getNumPages()):\n",
        "    #圧縮\n",
        "    page = reader.getPage(i)\n",
        "    page.compressContentStreams()\n",
        "    writer.addPage(page)\n",
        "\n",
        "for key, value in zip(fileNames, pdfPages):\n",
        "    writer.addBookmark(key, value, parent=None)\n",
        "writer.setPageMode(\"/UseOutlines\")  # This is what tells the PDF to open to bookmarks\n",
        "with open(outPath, \"wb\") as fp:\n",
        "    writer.write(fp)"
      ],
      "metadata": {
        "id": "3T7b6cdgfBA-"
      },
      "execution_count": 42,
      "outputs": []
    }
  ]
}