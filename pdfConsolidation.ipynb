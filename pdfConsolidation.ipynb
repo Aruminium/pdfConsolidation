{
  "nbformat": 4,
  "nbformat_minor": 0,
  "metadata": {
    "colab": {
      "name": "pdfConsolidation.ipynb",
      "provenance": [],
      "collapsed_sections": [],
      "mount_file_id": "11W4_MLX-1Z8bq2Ef4P1FI5OdQSt_ZskY",
      "authorship_tag": "ABX9TyPAsJbfn3LXFlsMujuTO4/k",
      "include_colab_link": true
    },
    "kernelspec": {
      "name": "python3",
      "display_name": "Python 3"
    },
    "language_info": {
      "name": "python"
    }
  },
  "cells": [
    {
      "cell_type": "markdown",
      "metadata": {
        "id": "view-in-github",
        "colab_type": "text"
      },
      "source": [
        "<a href=\"https://colab.research.google.com/github/Aruminium/pdfConsolidation/blob/main/pdfConsolidation.ipynb\" target=\"_parent\"><img src=\"https://colab.research.google.com/assets/colab-badge.svg\" alt=\"Open In Colab\"/></a>"
      ]
    },
    {
      "cell_type": "code",
      "execution_count": null,
      "metadata": {
        "id": "qMiIT1OVjpuy"
      },
      "outputs": [],
      "source": [
        "#インストール\n",
        "!pip install PyPDF2\n",
        "!pip install natsort\n",
        "!pip install pycryptodome"
      ]
    },
    {
      "cell_type": "code",
      "source": [
        "import PyPDF2\n",
        "import subprocess\n",
        "import glob\n",
        "from natsort import natsorted\n",
        "import os\n",
        "import re\n",
        "from Crypto.Cipher import AES\n",
        "import unicodedata\n",
        "from google.colab import drive\n",
        "drive.mount('/content/drive')"
      ],
      "metadata": {
        "id": "5Ua-f59Mjy3A",
        "colab": {
          "base_uri": "https://localhost:8080/"
        },
        "outputId": "e007836e-4147-4d7f-c1f0-6ce164c62771"
      },
      "execution_count": 57,
      "outputs": [
        {
          "output_type": "stream",
          "name": "stdout",
          "text": [
            "Drive already mounted at /content/drive; to attempt to forcibly remount, call drive.mount(\"/content/drive\", force_remount=True).\n"
          ]
        }
      ]
    },
    {
      "cell_type": "code",
      "source": [
        "#@title 準備 { vertical-output: true }\n",
        "\n",
        "#@markdown **googleドライブのパス(基本的に変更しない)**\n",
        "gdrivePath = '/content/drive/MyDrive/' #@param {type:\"string\"}\n",
        "\n",
        "#@markdown **連結させたいpdfが在るディレクトリのパス**\n",
        "dirPath = '' #@param {type:\"string\"}\n",
        "\n",
        "#連結するpdfをまとめたディレクトリのパス\n",
        "files = glob.glob(gdrivePath + dirPath + \"*.pdf\")\n",
        "\n",
        "# 全角->半角\n",
        "[os.rename(pdfFile, unicodedata.normalize(\"NFKC\", pdfFile)) for pdfFile in files]\n",
        "\n",
        "#連結するpdfをまとめたディレクトリのパス\n",
        "files = glob.glob(gdrivePath + dirPath + \"*.pdf\")\n",
        "\n",
        "fileNames = [os.path.basename(pdfFile).replace(\".pdf\", \"\") for pdfFile in files]\n",
        "fileNames"
      ],
      "metadata": {
        "id": "Oe4ffja84QVX"
      },
      "execution_count": null,
      "outputs": []
    },
    {
      "cell_type": "code",
      "source": [
        "#@title 並び替え　{ vertical-output: true }\n",
        "\n",
        "sorting = \"ascending\" #@param [\"unsort\", \"ascending\", \"descending\", \"reversion\"]\n",
        "\n",
        "if sorting in \"ascending\":\n",
        "    files = natsorted(files)\n",
        "elif sorting in \"descending\":\n",
        "    files = natsorted(files).reverse()\n",
        "elif sorting in \"reversion\":\n",
        "    files = files.reverse()\n",
        "\n",
        "#確認\n",
        "fileNames = [os.path.basename(pdfFile).replace(\".pdf\", \"\") for pdfFile in files]\n",
        "fileNames"
      ],
      "metadata": {
        "id": "op-3qo9NrbRc"
      },
      "execution_count": null,
      "outputs": []
    },
    {
      "cell_type": "code",
      "source": [
        "#@title ページ数取得　{ vertical-output: true }\n",
        "pdfPages = []\n",
        "sumPages = 0\n",
        "for pdfFile in files:\n",
        "    pdf_reader = PyPDF2.PdfFileReader(pdfFile)\n",
        "    page_num = pdf_reader.getNumPages()\n",
        "    pdfPages.append(sumPages)\n",
        "    sumPages += page_num\n",
        "    print(sumPages)\n",
        "pdfPages"
      ],
      "metadata": {
        "id": "KZ5oNTfCw4Ov"
      },
      "execution_count": null,
      "outputs": []
    },
    {
      "cell_type": "code",
      "source": [
        "\n",
        "#@title 出力　{ vertical-output: true }\n",
        "\n",
        "#@markdown **ファイル名**\n",
        "pdfName = '' #@param {type:\"string\"}\n",
        "#@markdown **MyDrive/以下の出力path**\n",
        "exportPath = '' #@param {type:\"string\"}\n",
        "\n",
        "pdf_writer = PyPDF2.PdfFileMerger()\n",
        "\n",
        "for file in files:\n",
        "    pdf_writer.append(file)\n",
        "\n",
        "#出力パス gdrivePath + \"/ + 任意ディレクトリのpath(/のみでも大丈夫)\" + fileName\n",
        "outPath = gdrivePath + exportPath + pdfName + '.pdf'\n",
        "\n",
        "# exportPathがなければ作る\n",
        "if not os.path.exists(exportPath):\n",
        "  os.mkdir(exportPath)\n",
        "\n",
        "pdf_writer.write(outPath)\n",
        "pdf_writer.close()"
      ],
      "metadata": {
        "id": "o_Opf8WqNJGj"
      },
      "execution_count": null,
      "outputs": []
    },
    {
      "cell_type": "code",
      "source": [
        "#@title しおり作成 & 圧縮\n",
        "\n",
        "#@markdown うまくいかない時は1つ前のセルのpdf結合からやり直す\n",
        "\n",
        "writer = PyPDF2.PdfFileWriter()\n",
        "reader = PyPDF2.PdfFileReader(outPath)\n",
        "\n",
        "for i in range(reader.getNumPages()):\n",
        "    #圧縮\n",
        "    page = reader.getPage(i)\n",
        "    page.compressContentStreams()\n",
        "    writer.addPage(page)\n",
        "\n",
        "for key, value in zip(fileNames, pdfPages):\n",
        "    writer.addBookmark(key, value, parent=None)\n",
        "writer.setPageMode(\"/UseOutlines\")  # This is what tells the PDF to open to bookmarks\n",
        "with open(outPath, \"wb\") as fp:\n",
        "    writer.write(fp)"
      ],
      "metadata": {
        "id": "3T7b6cdgfBA-"
      },
      "execution_count": 100,
      "outputs": []
    }
  ]
}